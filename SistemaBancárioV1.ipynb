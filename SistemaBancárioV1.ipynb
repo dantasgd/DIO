{
  "nbformat": 4,
  "nbformat_minor": 0,
  "metadata": {
    "colab": {
      "provenance": [],
      "authorship_tag": "ABX9TyO/bOnzPZsBWR4mfNxJr0Ug",
      "include_colab_link": true
    },
    "kernelspec": {
      "name": "python3",
      "display_name": "Python 3"
    },
    "language_info": {
      "name": "python"
    }
  },
  "cells": [
    {
      "cell_type": "markdown",
      "metadata": {
        "id": "view-in-github",
        "colab_type": "text"
      },
      "source": [
        "<a href=\"https://colab.research.google.com/github/dantasgd/DIO/blob/main/SistemaBanc%C3%A1rioV1.ipynb\" target=\"_parent\"><img src=\"https://colab.research.google.com/assets/colab-badge.svg\" alt=\"Open In Colab\"/></a>"
      ]
    },
    {
      "cell_type": "code",
      "source": [
        "deposito = 'd'\n",
        "saque = 's'\n",
        "extrato = 'e'\n",
        "fim = 'f'\n",
        "registro = []\n",
        "saldo = 0\n",
        "totalOperacoes = 0\n",
        "totalSaques = 0\n",
        "LIMITE_SAQUES = 3\n",
        "\n",
        "instrucoes = \"\"\"\n",
        "As operações válidas são as seguintes:\n",
        "d ----------------- depósito\n",
        "s ----------------- saque\n",
        "e ----------------- extrato\n",
        "f ----------------- fim da operação\n",
        "\n",
        "\"\"\"\n",
        "\n",
        "print(instrucoes)\n",
        "\n",
        "operacao = input(\"Insira a operação desejada: \")\n",
        "print()\n",
        "while True:\n",
        "\n",
        "  if operacao == 'd':\n",
        "\n",
        "      valorDepositado = float(input('Insira o valor a ser depositado: R$'))\n",
        "      saldo += valorDepositado\n",
        "      print(f'R${valorDepositado:3.2f} depositado com sucesso')\n",
        "      registro.append('Depósito')\n",
        "      registro.append(valorDepositado)\n",
        "\n",
        "  elif operacao == 's':\n",
        "    valorSacado = float(input('Insira o valor a sacar: '))\n",
        "\n",
        "    if valorSacado > saldo:\n",
        "      print('Saldo insuficiente')\n",
        "\n",
        "    else:\n",
        "      if totalSaques <= 0:\n",
        "        print('Saque realizado com sucesso')\n",
        "        registro.append('Saque')\n",
        "        registro.append(valorSacado)\n",
        "        totalSaques+=1\n",
        "        saldo-=valorSacado\n",
        "      else:\n",
        "        print('Número máximo de saques atingidos')\n",
        "\n",
        "  elif operacao == 'e':\n",
        "    print(f'---------EXTRATO---------')\n",
        "    print(f'Saldo: {saldo}')\n",
        "    print()\n",
        "    for i in range(len(registro)-1):\n",
        "      if i%2==0:\n",
        "        print(f'{registro[i]}: {registro[i+1]}')\n",
        "      else:\n",
        "        continue\n",
        "    print('-------------------------')\n",
        "    print()\n",
        "  elif  operacao == 'f':\n",
        "    print('Obrigado por utilizar nossos serviços. Volte sempre!')\n",
        "    break\n",
        "\n",
        "  else:\n",
        "    print('Operação não definida')\n",
        "    break\n",
        "\n",
        "  operacao = input(\"Insira a operação desejada: \")\n",
        "  print()\n",
        "\n"
      ],
      "metadata": {
        "colab": {
          "base_uri": "https://localhost:8080/"
        },
        "id": "SAJ5jTJxJJdt",
        "outputId": "eccaf630-4b17-4e23-8bf3-acaa22a6a2e7"
      },
      "execution_count": 67,
      "outputs": [
        {
          "output_type": "stream",
          "name": "stdout",
          "text": [
            "\n",
            "As operações válidas são as seguintes:\n",
            "d ----------------- depósito\n",
            "s ----------------- saque\n",
            "e ----------------- extrato\n",
            "f ----------------- fim da operação\n",
            "\n",
            "\n",
            "Insira a operação desejada: d\n",
            "\n",
            "Insira o valor a ser depositado: R$10000\n",
            "R$10000.00 depositado com sucesso\n",
            "Insira a operação desejada: e\n",
            "\n",
            "---------EXTRATO---------\n",
            "Saldo: 10000.0\n",
            "\n",
            "Depósito: 10000.0\n",
            "-------------------------\n",
            "\n",
            "Insira a operação desejada: s\n",
            "\n",
            "Insira o valor a sacar: 4000\n",
            "Saque realizado com sucesso\n",
            "Insira a operação desejada: e\n",
            "\n",
            "---------EXTRATO---------\n",
            "Saldo: 6000.0\n",
            "\n",
            "Depósito: 10000.0\n",
            "Saque: 4000.0\n",
            "-------------------------\n",
            "\n",
            "Insira a operação desejada: f\n",
            "\n",
            "Obrigado por utilizar nossos serviços. Volte sempre!\n"
          ]
        }
      ]
    }
  ]
}